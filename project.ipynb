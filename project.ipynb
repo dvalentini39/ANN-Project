{
 "cells": [
  {
   "cell_type": "code",
   "execution_count": 1,
   "metadata": {},
   "outputs": [],
   "source": [
    "import numpy as np\n",
    "import matplotlib.pylab as plt\n",
    "import tensorflow as tf\n",
    "from tensorflow import keras\n",
    "from keras.layers import Conv2D, MaxPooling2D\n",
    "from keras.layers import Dense, Dropout, Flatten\n",
    "from keras.models import Sequential\n",
    "from keras.preprocessing.image import ImageDataGenerator\n"
   ]
  },
  {
   "cell_type": "code",
   "execution_count": 2,
   "metadata": {},
   "outputs": [
    {
     "name": "stdout",
     "output_type": "stream",
     "text": [
      "Found 8733 images belonging to 4 classes.\n"
     ]
    }
   ],
   "source": [
    "train_data_path = \"dataset/Train\"\n",
    "test_data_path = \"dataset/Test\"\n",
    "categories = ['freshapples', 'freshoranges', 'freshbanana', 'rottenapples', 'rottenoranges', 'rottenbanana']\n",
    "batch_size = 32\n",
    "img_height, img_width = 128, 128\n",
    "input_image_shape = (img_width, img_height, 3)\n",
    "\n",
    "\n",
    "train_datagen = ImageDataGenerator()\n",
    "train_generator_x = train_datagen.flow_from_directory(\n",
    "    directory=train_data_path,\n",
    "    target_size=(img_width, img_height),\n",
    "    batch_size=1,\n",
    "    class_mode='binary',\n",
    "    shuffle=True,\n",
    "    classes=categories\n",
    ")\n",
    "\n",
    "train_data_list = []\n",
    "for index in range(len(train_generator_x)):\n",
    "    images, labels = train_generator_x[index]\n",
    "    train_data_list.extend(list(zip(images, labels)))"
   ]
  },
  {
   "cell_type": "code",
   "execution_count": 3,
   "metadata": {},
   "outputs": [
    {
     "name": "stderr",
     "output_type": "stream",
     "text": [
      "/var/folders/30/jbq9j0ys6x741mjd96j545kr0000gn/T/ipykernel_64973/7547442.py:1: VisibleDeprecationWarning: Creating an ndarray from ragged nested sequences (which is a list-or-tuple of lists-or-tuples-or ndarrays with different lengths or shapes) is deprecated. If you meant to do this, you must specify 'dtype=object' when creating the ndarray.\n",
      "  train_data = np.array(train_data_list)\n"
     ]
    }
   ],
   "source": [
    "train_data = np.array(train_data_list)"
   ]
  },
  {
   "cell_type": "code",
   "execution_count": 4,
   "metadata": {},
   "outputs": [
    {
     "name": "stdout",
     "output_type": "stream",
     "text": [
      "1595 3248 2424 1466\n"
     ]
    }
   ],
   "source": [
    "count_fa = 0\n",
    "count_fo = 0\n",
    "count_ra = 0\n",
    "count_ro = 0\n",
    "for i in range(len(train_generator_x)):\n",
    "    num = train_data[i][1]\n",
    "    if num == 0: \n",
    "        count_fa +=1\n",
    "        train_data[i][1] = 1\n",
    "    if num == 1: \n",
    "        count_fo +=1\n",
    "        train_data[i][1] = 1\n",
    "    if num == 2: \n",
    "        count_ra +=1\n",
    "        train_data[i][1] = 0\n",
    "    if num == 3: \n",
    "        count_ro +=1\n",
    "        train_data[i][1] = 0\n",
    "\n",
    "print(count_ro, count_ra, count_fa, count_fo)\n",
    "    \n"
   ]
  },
  {
   "cell_type": "code",
   "execution_count": 5,
   "metadata": {},
   "outputs": [],
   "source": [
    "model = Sequential()\n",
    "model.add(Conv2D(32, (3, 3), activation='relu', input_shape=input_image_shape))\n",
    "model.add(MaxPooling2D(pool_size=(2, 2)))\n",
    "\n",
    "model.add(Conv2D(64, (3, 3), activation='relu'))\n",
    "model.add(MaxPooling2D(pool_size=(2, 2)))\n",
    "\n",
    "model.add(Conv2D(128, (3, 3), activation='relu'))\n",
    "model.add(MaxPooling2D(pool_size=(2, 2)))\n",
    "\n",
    "model.add(Conv2D(256, (3, 3), activation='relu'))\n",
    "model.add(MaxPooling2D(pool_size=(2, 2)))\n",
    "\n",
    "model.add(Flatten())\n",
    "model.add(Dense(128, activation='relu'))\n",
    "\n",
    "model.add(Dense(64, activation='relu'))\n",
    "model.add(Dropout(0.5))\n",
    "\n",
    "model.add(Dense(1, activation='sigmoid'))\n",
    "\n",
    "model.compile(optimizer='adam',\n",
    "              loss='binary_crossentropy',\n",
    "              metrics=['accuracy'])\n"
   ]
  },
  {
   "cell_type": "code",
   "execution_count": 6,
   "metadata": {},
   "outputs": [
    {
     "name": "stdout",
     "output_type": "stream",
     "text": [
      "Epoch 1/10\n"
     ]
    },
    {
     "name": "stderr",
     "output_type": "stream",
     "text": [
      "2024-05-02 09:55:16.367050: W tensorflow/tsl/platform/profile_utils/cpu_utils.cc:128] Failed to get CPU frequency: 0 Hz\n"
     ]
    },
    {
     "name": "stdout",
     "output_type": "stream",
     "text": [
      "273/273 [==============================] - 48s 175ms/step - loss: 1.0101 - accuracy: 0.7523\n",
      "Epoch 2/10\n",
      "273/273 [==============================] - 47s 171ms/step - loss: 0.3143 - accuracy: 0.8688\n",
      "Epoch 3/10\n",
      "273/273 [==============================] - 48s 175ms/step - loss: 0.2422 - accuracy: 0.8987\n",
      "Epoch 4/10\n",
      "273/273 [==============================] - 47s 170ms/step - loss: 0.2247 - accuracy: 0.9138\n",
      "Epoch 5/10\n",
      "273/273 [==============================] - 46s 170ms/step - loss: 0.1758 - accuracy: 0.9308\n",
      "Epoch 6/10\n",
      "273/273 [==============================] - 46s 170ms/step - loss: 0.1391 - accuracy: 0.9462\n",
      "Epoch 7/10\n",
      "273/273 [==============================] - 46s 170ms/step - loss: 0.1035 - accuracy: 0.9636\n",
      "Epoch 8/10\n",
      "273/273 [==============================] - 47s 172ms/step - loss: 0.1292 - accuracy: 0.9526\n",
      "Epoch 9/10\n",
      "273/273 [==============================] - 49s 178ms/step - loss: 0.1256 - accuracy: 0.9531\n",
      "Epoch 10/10\n",
      "273/273 [==============================] - 51s 186ms/step - loss: 0.1102 - accuracy: 0.9622\n"
     ]
    },
    {
     "data": {
      "text/plain": [
       "<keras.callbacks.History at 0x14c7e3190>"
      ]
     },
     "execution_count": 6,
     "metadata": {},
     "output_type": "execute_result"
    }
   ],
   "source": [
    "X_train = np.array([item[0] for item in train_data])\n",
    "Y_train = np.array([item[1] for item in train_data])\n",
    "model.fit(X_train, Y_train, epochs=10)"
   ]
  },
  {
   "cell_type": "code",
   "execution_count": 7,
   "metadata": {},
   "outputs": [
    {
     "name": "stdout",
     "output_type": "stream",
     "text": [
      "Found 2570 images belonging to 4 classes.\n"
     ]
    }
   ],
   "source": [
    "test_datagen = ImageDataGenerator()\n",
    "test_generator_x = test_datagen.flow_from_directory(\n",
    "    directory=test_data_path,\n",
    "    target_size=(img_width, img_height),\n",
    "    batch_size=1,\n",
    "    class_mode='binary',\n",
    "    shuffle=True,\n",
    "    classes=categories\n",
    ")\n",
    "\n",
    "test_data_list = []\n",
    "for index in range(len(test_generator_x)):\n",
    "    images, labels = test_generator_x[index]\n",
    "    test_data_list.extend(list(zip(images, labels)))"
   ]
  },
  {
   "cell_type": "code",
   "execution_count": 8,
   "metadata": {},
   "outputs": [
    {
     "name": "stdout",
     "output_type": "stream",
     "text": [
      "403 988 791 388\n"
     ]
    },
    {
     "name": "stderr",
     "output_type": "stream",
     "text": [
      "/var/folders/30/jbq9j0ys6x741mjd96j545kr0000gn/T/ipykernel_64973/3861771843.py:1: VisibleDeprecationWarning: Creating an ndarray from ragged nested sequences (which is a list-or-tuple of lists-or-tuples-or ndarrays with different lengths or shapes) is deprecated. If you meant to do this, you must specify 'dtype=object' when creating the ndarray.\n",
      "  test_data = np.array(test_data_list)\n"
     ]
    }
   ],
   "source": [
    "test_data = np.array(test_data_list)\n",
    "\n",
    "count_fa_test = 0\n",
    "count_fo_test = 0\n",
    "count_ra_test = 0\n",
    "count_ro_test = 0\n",
    "for i in range(len(test_generator_x)):\n",
    "    num = test_data[i][1]\n",
    "    if num == 0: \n",
    "        count_fa_test +=1\n",
    "        test_data[i][1] = 1\n",
    "    if num == 1: \n",
    "        count_fo_test +=1\n",
    "        test_data[i][1] = 1\n",
    "    if num == 2: \n",
    "        count_ra_test +=1\n",
    "        test_data[i][1] = 0\n",
    "    if num == 3: \n",
    "        count_ro_test +=1\n",
    "        test_data[i][1] = 0\n",
    "\n",
    "print(count_ro_test, count_ra_test, count_fa_test, count_fo_test)"
   ]
  },
  {
   "cell_type": "code",
   "execution_count": 9,
   "metadata": {},
   "outputs": [
    {
     "name": "stdout",
     "output_type": "stream",
     "text": [
      "81/81 [==============================] - 5s 57ms/step - loss: 0.0814 - accuracy: 0.9700\n",
      "Loss: 0.08136963844299316\n",
      "Acc: 0.970038890838623\n"
     ]
    }
   ],
   "source": [
    "X_test = np.array([item[0] for item in test_data])\n",
    "Y_test = np.array([item[1] for item in test_data])\n",
    "\n",
    "test_loss, test_acc = model.evaluate(X_test, Y_test)\n",
    "\n",
    "print(\"Loss:\", test_loss)\n",
    "print(\"Acc:\", test_acc)"
   ]
  },
  {
   "cell_type": "code",
   "execution_count": 10,
   "metadata": {},
   "outputs": [
    {
     "name": "stdout",
     "output_type": "stream",
     "text": [
      "Found 4362 images belonging to 6 classes.\n"
     ]
    }
   ],
   "source": [
    "test_datagen = ImageDataGenerator()\n",
    "test_generator_x = test_datagen.flow_from_directory(\n",
    "    directory=test_data_path,\n",
    "    target_size=(img_width, img_height),\n",
    "    batch_size=1,\n",
    "    class_mode='binary',\n",
    "    shuffle=True,\n",
    "    classes=['freshapples', 'rottenapples', 'freshoranges', 'rottenoranges', 'freshbanana', 'rottenbanana']\n",
    ")\n",
    "\n",
    "test_data_list = []\n",
    "for index in range(len(test_generator_x)):\n",
    "    images, labels = test_generator_x[index]\n",
    "    test_data_list.extend(list(zip(images, labels)))"
   ]
  },
  {
   "cell_type": "code",
   "execution_count": 11,
   "metadata": {},
   "outputs": [
    {
     "name": "stdout",
     "output_type": "stream",
     "text": [
      "4362\n",
      "1265\n"
     ]
    },
    {
     "name": "stderr",
     "output_type": "stream",
     "text": [
      "/var/folders/30/jbq9j0ys6x741mjd96j545kr0000gn/T/ipykernel_64973/3868821959.py:8: VisibleDeprecationWarning: Creating an ndarray from ragged nested sequences (which is a list-or-tuple of lists-or-tuples-or ndarrays with different lengths or shapes) is deprecated. If you meant to do this, you must specify 'dtype=object' when creating the ndarray.\n",
      "  test_data = np.array(test_data_list)\n"
     ]
    }
   ],
   "source": [
    "import random as rn\n",
    "\n",
    "int_dex = rn.randint(0, len(test_data_list))\n",
    "\n",
    "test_data = np.array(test_data_list)\n",
    "X_test_predict = np.array([test_data[int_dex][0]])"
   ]
  },
  {
   "cell_type": "code",
   "execution_count": 12,
   "metadata": {},
   "outputs": [
    {
     "name": "stdout",
     "output_type": "stream",
     "text": [
      "1/1 [==============================] - 0s 69ms/step\n"
     ]
    },
    {
     "data": {
      "image/png": "[encoded data removed]",
      "text/plain": [
       "<Figure size 200x200 with 1 Axes>"
      ]
     },
     "metadata": {},
     "output_type": "display_data"
    },
    {
     "name": "stdout",
     "output_type": "stream",
     "text": [
      "Classification: Rotten\n"
     ]
    }
   ],
   "source": [
    "prediction = model.predict(X_test_predict)\n",
    "plt.figure(figsize=(2, 2))\n",
    "\n",
    "title = ['Test Image']\n",
    "\n",
    "for i in range(len(X_test_predict)):\n",
    "    plt.subplot(1, len(X_test_predict), i+1)\n",
    "    plt.title(title[i])\n",
    "    plt.imshow(tf.keras.utils.array_to_img(X_test_predict[i]))\n",
    "    plt.axis('off')\n",
    "plt.show()\n",
    "if prediction < .01: print('Classification: Rotten') \n",
    "else: print('Classification: Fresh')"
   ]
  },
  {
   "cell_type": "code",
   "execution_count": 13,
   "metadata": {},
   "outputs": [
    {
     "name": "stdout",
     "output_type": "stream",
     "text": [
      "Model: \"sequential\"\n",
      "_________________________________________________________________\n",
      " Layer (type)                Output Shape              Param #   \n",
      "=================================================================\n",
      " conv2d (Conv2D)             (None, 126, 126, 32)      896       \n",
      "                                                                 \n",
      " max_pooling2d (MaxPooling2D  (None, 63, 63, 32)       0         \n",
      " )                                                               \n",
      "                                                                 \n",
      " conv2d_1 (Conv2D)           (None, 61, 61, 64)        18496     \n",
      "                                                                 \n",
      " max_pooling2d_1 (MaxPooling  (None, 30, 30, 64)       0         \n",
      " 2D)                                                             \n",
      "                                                                 \n",
      " conv2d_2 (Conv2D)           (None, 28, 28, 128)       73856     \n",
      "                                                                 \n",
      " max_pooling2d_2 (MaxPooling  (None, 14, 14, 128)      0         \n",
      " 2D)                                                             \n",
      "                                                                 \n",
      " conv2d_3 (Conv2D)           (None, 12, 12, 256)       295168    \n",
      "                                                                 \n",
      " max_pooling2d_3 (MaxPooling  (None, 6, 6, 256)        0         \n",
      " 2D)                                                             \n",
      "                                                                 \n",
      " flatten (Flatten)           (None, 9216)              0         \n",
      "                                                                 \n",
      " dense (Dense)               (None, 128)               1179776   \n",
      "                                                                 \n",
      " dense_1 (Dense)             (None, 64)                8256      \n",
      "                                                                 \n",
      " dropout (Dropout)           (None, 64)                0         \n",
      "                                                                 \n",
      " dense_2 (Dense)             (None, 1)                 65        \n",
      "                                                                 \n",
      "=================================================================\n",
      "Total params: 1,576,513\n",
      "Trainable params: 1,576,513\n",
      "Non-trainable params: 0\n",
      "_________________________________________________________________\n"
     ]
    }
   ],
   "source": [
    "model.summary()"
   ]
  }
 ],
 "metadata": {
  "kernelspec": {
   "display_name": "neuralnetworks",
   "language": "python",
   "name": "python3"
  },
  "language_info": {
   "codemirror_mode": {
    "name": "ipython",
    "version": 3
   },
   "file_extension": ".py",
   "mimetype": "text/x-python",
   "name": "python",
   "nbconvert_exporter": "python",
   "pygments_lexer": "ipython3",
   "version": "3.11.5"
  },
  "orig_nbformat": 4
 },
 "nbformat": 4,
 "nbformat_minor": 2
}
